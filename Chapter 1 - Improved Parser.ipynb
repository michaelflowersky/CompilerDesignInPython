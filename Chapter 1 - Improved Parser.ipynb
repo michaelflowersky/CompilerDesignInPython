{
 "cells": [
  {
   "cell_type": "markdown",
   "id": "2acf846e",
   "metadata": {},
   "source": [
    "Let's first define available tokens"
   ]
  },
  {
   "cell_type": "code",
   "execution_count": 10,
   "id": "e0580883",
   "metadata": {},
   "outputs": [],
   "source": [
    "from enum import Enum\n",
    "\n",
    "class Token(Enum):\n",
    "    EOI       = 0  # End of input\n",
    "    SEMI      = 1  # ;\n",
    "    PLUS      = 2  # +\n",
    "    TIMES     = 3  # *\n",
    "    LP        = 4  # (\n",
    "    RP        = 5  # )\n",
    "    NUM_OR_ID = 6  # decimal number or identifier"
   ]
  },
  {
   "cell_type": "markdown",
   "id": "1a24b367",
   "metadata": {},
   "source": [
    "Define character to token mapping"
   ]
  },
  {
   "cell_type": "code",
   "execution_count": 11,
   "id": "093dd045",
   "metadata": {},
   "outputs": [],
   "source": [
    "character_to_token = {\n",
    "    ';': Token.SEMI,\n",
    "    '+': Token.PLUS,\n",
    "    '*': Token.TIMES,\n",
    "    '(': Token.LP,\n",
    "    ')': Token.RP\n",
    "}"
   ]
  },
  {
   "cell_type": "code",
   "execution_count": 12,
   "id": "0b866404",
   "metadata": {},
   "outputs": [],
   "source": [
    "from collections import namedtuple\n",
    "Lexeme = namedtuple('Lexeme', ['type', 'value'])"
   ]
  },
  {
   "cell_type": "code",
   "execution_count": 13,
   "id": "fcf88ab3",
   "metadata": {},
   "outputs": [],
   "source": [
    "def lex(chars):\n",
    "    if len(chars) == 0:\n",
    "        return Lexeme(Token.EOI, None)\n",
    "\n",
    "    current = chars.pop(0)\n",
    "    \n",
    "    while 1:\n",
    "        while len(chars) > 0 and current == ' ':\n",
    "            current = chars.pop(0)\n",
    "        \n",
    "        while len(chars) > 0:\n",
    "            # Get the next token\n",
    "            if current in character_to_token:\n",
    "                return Lexeme(character_to_token[current], None)\n",
    "            elif current in ('\\n', '\\t', ' '):\n",
    "                return None\n",
    "            else:\n",
    "                if not current.isalnum():\n",
    "                    print(f\"Ignoring illegal input {current}\")\n",
    "                    return None\n",
    "                else:\n",
    "                    value = [current]\n",
    "                    while len(chars) > 0 and chars[0].isalnum():\n",
    "                        value.append(chars.pop(0))\n",
    "                    return Lexeme(Token.NUM_OR_ID, value)\n",
    "\n",
    "        if len(chars) == 0:\n",
    "            return Lexeme(Token.EOI, None)\n",
    "\n",
    "    return Lexeme(Token.EOI, None)"
   ]
  },
  {
   "cell_type": "code",
   "execution_count": 14,
   "id": "b6951d56",
   "metadata": {},
   "outputs": [],
   "source": [
    "class Lexer(object):\n",
    "    def __init__(self, chars):\n",
    "        self.lookahead = None\n",
    "        self.chars = chars\n",
    "\n",
    "    def match(self, token):\n",
    "        # Return true if \"token\" matches the current lookahead symbol.\n",
    "        if not self.lookahead:\n",
    "            while not self.lookahead:\n",
    "                self.lookahead = lex(self.chars)\n",
    "                print(f\"New lookahead: {self.lookahead}\")\n",
    "\n",
    "        return token == self.lookahead.type\n",
    "\n",
    "    def advance(self):\n",
    "        # Advance the lookahead to the next input symbol.\n",
    "        self.lookahead = lex(self.chars)\n",
    "        print(f\"Changed lookahead: {self.lookahead}\")"
   ]
  },
  {
   "cell_type": "code",
   "execution_count": 19,
   "id": "a00b848c",
   "metadata": {},
   "outputs": [],
   "source": [
    "class ParserException(Exception):\n",
    "    \"\"\"Parser exception.\"\"\"\n",
    "\n",
    "class Parser(object):\n",
    "    def __init__(self, lexer):\n",
    "        self.lexer = lexer\n",
    "    \n",
    "    def legal_lookahead(self, lookaheads):\n",
    "        error_printed = False\n",
    "        while not self.lexer.match(Token.SEMI):\n",
    "            for lookahead in lookaheads:\n",
    "                if self.lexer.match(lookahead):\n",
    "                    return True\n",
    "            if not error_printed:\n",
    "                print(\"Line no TODO: Syntax error\")\n",
    "                error_printed = True\n",
    "            self.lexer.advance()\n",
    "        return False\n",
    "            \n",
    "    \n",
    "    def factor(self):\n",
    "        if not self.legal_lookahead([Token.NUM_OR_ID, Token.LP]):\n",
    "            return\n",
    "        \n",
    "        if self.lexer.match(Token.NUM_OR_ID):\n",
    "            self.lexer.advance()\n",
    "        elif self.lexer.match(Token.LP):\n",
    "            self.lexer.advance()\n",
    "            self.expression()\n",
    "            if self.lexer.match(Token.RP):\n",
    "                self.lexer.advance()\n",
    "            else:\n",
    "                raise ParserException(\"Mismatch parenthesis TODO: Lineno\")\n",
    "        else:\n",
    "            raise ParserException(\"Number or identifier expected TODO: lineno\")\n",
    "    \n",
    "    def term(self):\n",
    "        if not self.legal_lookahead([Token.NUM_OR_ID, Token.LP]):\n",
    "            return\n",
    "        \n",
    "        self.factor()\n",
    "        \n",
    "        while self.lexer.match(Token.TIMES):\n",
    "            self.lexer.advance()\n",
    "            self.factor()\n",
    "\n",
    "    def expression(self):\n",
    "        \"\"\"\n",
    "        expression  -> term expression'\n",
    "        expression' -> PLUS term expression' | epsilon\n",
    "        \"\"\"\n",
    "        print(f\"expression {self.lexer.chars}\")\n",
    "        \n",
    "        if not self.legal_lookahead([Token.NUM_OR_ID, Token.LP]):\n",
    "            return\n",
    "        \n",
    "        self.term()\n",
    "        \n",
    "        while self.lexer.match(Token.PLUS):\n",
    "            self.lexer.advance()\n",
    "            self.term()\n",
    "\n",
    "    def statements(self):\n",
    "        \"\"\"\n",
    "        statements -> expression SEMI\n",
    "                |     expression SEMI statement\n",
    "        \"\"\"\n",
    "        print(f\"statements {self.lexer.chars}\")\n",
    "        \n",
    "        \"\"\"\n",
    "        self.expression()\n",
    "\n",
    "        if self.lexer.match(Token.SEMI):\n",
    "            self.lexer.advance()\n",
    "        else:\n",
    "            print(\"Inserting missing semicolon: LINENO (TODO)\")\n",
    "\n",
    "        if (not self.lexer.match(Token.EOI)):\n",
    "            self.statements()\n",
    "        \"\"\"\n",
    "        \n",
    "        while not self.lexer.match(Token.EOI):\n",
    "            self.expression()\n",
    "            \n",
    "            if self.lexer.match(Token.SEMI):\n",
    "                self.lexer.advance()\n",
    "            else:\n",
    "                print(\"Inserting missing semicolon (TODO: line number)\")"
   ]
  },
  {
   "cell_type": "code",
   "execution_count": 20,
   "id": "70a2256c",
   "metadata": {},
   "outputs": [
    {
     "name": "stdout",
     "output_type": "stream",
     "text": [
      "statements ['\\n', '2', ' ', '+', ' ', '2', ';', '\\n']\n",
      "New lookahead: None\n",
      "New lookahead: Lexeme(type=<Token.NUM_OR_ID: 6>, value=['2'])\n",
      "expression [' ', '+', ' ', '2', ';', '\\n']\n",
      "Changed lookahead: Lexeme(type=<Token.PLUS: 2>, value=None)\n",
      "Changed lookahead: Lexeme(type=<Token.NUM_OR_ID: 6>, value=['2'])\n",
      "Changed lookahead: Lexeme(type=<Token.SEMI: 1>, value=None)\n",
      "Changed lookahead: Lexeme(type=<Token.EOI: 0>, value=None)\n"
     ]
    }
   ],
   "source": [
    "expressions = \"\"\"\n",
    "2 + 2;\n",
    "\"\"\"\n",
    "\n",
    "chars = list(expressions)\n",
    "\n",
    "lexer = Lexer(chars)\n",
    "parser = Parser(lexer)\n",
    "parser.statements()"
   ]
  },
  {
   "cell_type": "code",
   "execution_count": 21,
   "id": "2a1a78be",
   "metadata": {},
   "outputs": [
    {
     "name": "stdout",
     "output_type": "stream",
     "text": [
      "statements ['\\n', '2', ' ', '+', ' ', '*', ';', '\\n']\n",
      "New lookahead: None\n",
      "New lookahead: Lexeme(type=<Token.NUM_OR_ID: 6>, value=['2'])\n",
      "expression [' ', '+', ' ', '*', ';', '\\n']\n",
      "Changed lookahead: Lexeme(type=<Token.PLUS: 2>, value=None)\n",
      "Changed lookahead: Lexeme(type=<Token.TIMES: 3>, value=None)\n",
      "Line no TODO: Syntax error\n",
      "Changed lookahead: Lexeme(type=<Token.SEMI: 1>, value=None)\n",
      "Changed lookahead: Lexeme(type=<Token.EOI: 0>, value=None)\n"
     ]
    }
   ],
   "source": [
    "invalid_expressions = \"\"\"\n",
    "2 + *;\n",
    "\"\"\"\n",
    "\n",
    "chars = list(invalid_expressions)\n",
    "\n",
    "lexer = Lexer(chars)\n",
    "parser = Parser(lexer)\n",
    "parser.statements()"
   ]
  },
  {
   "cell_type": "code",
   "execution_count": null,
   "id": "f6349637",
   "metadata": {},
   "outputs": [],
   "source": []
  }
 ],
 "metadata": {
  "kernelspec": {
   "display_name": "Python 3 (ipykernel)",
   "language": "python",
   "name": "python3"
  },
  "language_info": {
   "codemirror_mode": {
    "name": "ipython",
    "version": 3
   },
   "file_extension": ".py",
   "mimetype": "text/x-python",
   "name": "python",
   "nbconvert_exporter": "python",
   "pygments_lexer": "ipython3",
   "version": "3.11.2"
  }
 },
 "nbformat": 4,
 "nbformat_minor": 5
}
