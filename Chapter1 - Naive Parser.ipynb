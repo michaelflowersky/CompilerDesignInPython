{
 "cells": [
  {
   "cell_type": "markdown",
   "id": "eabe0f1f",
   "metadata": {},
   "source": [
    "Let's first define available tokens"
   ]
  },
  {
   "cell_type": "code",
   "execution_count": 64,
   "id": "dac955a5",
   "metadata": {},
   "outputs": [],
   "source": [
    "from enum import Enum\n",
    "\n",
    "class Token(Enum):\n",
    "    EOI       = 0  # End of input\n",
    "    SEMI      = 1  # ;\n",
    "    PLUS      = 2  # +\n",
    "    TIMES     = 3  # *\n",
    "    LP        = 4  # (\n",
    "    RP        = 5  # )\n",
    "    NUM_OR_ID = 6  # decimal number or identifier"
   ]
  },
  {
   "cell_type": "markdown",
   "id": "1f9dcf4b",
   "metadata": {},
   "source": [
    "Now we want to define our expressions"
   ]
  },
  {
   "cell_type": "code",
   "execution_count": 65,
   "id": "de0aa88e",
   "metadata": {},
   "outputs": [],
   "source": [
    "expressions = \"\"\"\n",
    "2 + 2\n",
    "14 * 5\n",
    "(10 * 2) + 5\n",
    "\n",
    "60 * 70\n",
    "\"\"\""
   ]
  },
  {
   "cell_type": "markdown",
   "id": "86710a79",
   "metadata": {},
   "source": [
    "Ok, so now we will be doing lookahead with expressions[0] and if given character was analyzed we will be doing pop(0)"
   ]
  },
  {
   "cell_type": "code",
   "execution_count": 66,
   "id": "59220f25",
   "metadata": {},
   "outputs": [
    {
     "name": "stdout",
     "output_type": "stream",
     "text": [
      "['\\n', '2', ' ', '+', ' ', '2', '\\n', '1', '4', ' ', '*', ' ', '5', '\\n', '(', '1', '0', ' ', '*', ' ', '2', ')', ' ', '+', ' ', '5', '\\n', '\\n', '6', '0', ' ', '*', ' ', '7', '0', '\\n']\n"
     ]
    }
   ],
   "source": [
    "chars = list(expressions)\n",
    "print(chars)"
   ]
  },
  {
   "cell_type": "markdown",
   "id": "1b5af33d",
   "metadata": {},
   "source": [
    "Below we define useful mapping between symbol and token."
   ]
  },
  {
   "cell_type": "code",
   "execution_count": 67,
   "id": "ca58b0fe",
   "metadata": {},
   "outputs": [],
   "source": [
    "character_to_token = {\n",
    "    ';': Token.SEMI,\n",
    "    '+': Token.PLUS,\n",
    "    '*': Token.TIMES,\n",
    "    '(': Token.LP,\n",
    "    ')': Token.RP\n",
    "}"
   ]
  },
  {
   "cell_type": "code",
   "execution_count": 68,
   "id": "e1062e0a",
   "metadata": {},
   "outputs": [],
   "source": [
    "from collections import namedtuple\n",
    "Lexeme = namedtuple('Lexeme', ['type', 'value'])"
   ]
  },
  {
   "cell_type": "code",
   "execution_count": 69,
   "id": "1fd99e09",
   "metadata": {},
   "outputs": [],
   "source": [
    "def lex(chars):\n",
    "    if len(chars) == 0:\n",
    "        return Lexeme(Token.EOI, None)\n",
    "\n",
    "    current = chars.pop(0)\n",
    "    \n",
    "    while 1:\n",
    "        while len(chars) > 0 and current == ' ':\n",
    "            current = chars.pop(0)\n",
    "        \n",
    "        while len(chars) > 0:\n",
    "            # Get the next token\n",
    "            if current in character_to_token:\n",
    "                return Lexeme(character_to_token[current], None)\n",
    "            elif current in ('\\n', '\\t', ' '):\n",
    "                return None\n",
    "            else:\n",
    "                if not current.isalnum():\n",
    "                    print(f\"Ignoring illegal input {current}\")\n",
    "                    return None\n",
    "                else:\n",
    "                    value = [current]\n",
    "                    while len(chars) > 0 and chars[0].isalnum():\n",
    "                        value.append(chars.pop(0))\n",
    "                    return Lexeme(Token.NUM_OR_ID, value)\n",
    "\n",
    "        if len(chars) == 0:\n",
    "            return Lexeme(Token.EOI, None)\n",
    "\n",
    "    return Lexeme(Token.EOI, None)"
   ]
  },
  {
   "cell_type": "code",
   "execution_count": 70,
   "id": "f1437c14",
   "metadata": {},
   "outputs": [
    {
     "name": "stdout",
     "output_type": "stream",
     "text": [
      "None\n",
      "Lexeme(type=<Token.NUM_OR_ID: 6>, value=['2'])\n",
      "Lexeme(type=<Token.PLUS: 2>, value=None)\n",
      "Lexeme(type=<Token.NUM_OR_ID: 6>, value=['2'])\n",
      "None\n",
      "Lexeme(type=<Token.NUM_OR_ID: 6>, value=['1', '4'])\n",
      "Lexeme(type=<Token.TIMES: 3>, value=None)\n",
      "Lexeme(type=<Token.NUM_OR_ID: 6>, value=['5'])\n",
      "None\n",
      "Lexeme(type=<Token.LP: 4>, value=None)\n",
      "Lexeme(type=<Token.NUM_OR_ID: 6>, value=['1', '0'])\n",
      "Lexeme(type=<Token.TIMES: 3>, value=None)\n",
      "Lexeme(type=<Token.NUM_OR_ID: 6>, value=['2'])\n",
      "Lexeme(type=<Token.RP: 5>, value=None)\n",
      "Lexeme(type=<Token.PLUS: 2>, value=None)\n",
      "Lexeme(type=<Token.NUM_OR_ID: 6>, value=['5'])\n",
      "None\n",
      "None\n",
      "Lexeme(type=<Token.NUM_OR_ID: 6>, value=['6', '0'])\n",
      "Lexeme(type=<Token.TIMES: 3>, value=None)\n",
      "Lexeme(type=<Token.NUM_OR_ID: 6>, value=['7', '0'])\n",
      "Lexeme(type=<Token.EOI: 0>, value=None)\n"
     ]
    }
   ],
   "source": [
    "lexeme = lex(chars)\n",
    "\n",
    "def proceed(lexeme):\n",
    "    if lexeme == None:\n",
    "        return True\n",
    "    elif lexeme.type == Token.EOI:\n",
    "        return False\n",
    "    return True\n",
    "\n",
    "while proceed(lexeme):\n",
    "    print(lexeme)\n",
    "    lexeme = lex(chars)\n",
    "\n",
    "print(lexeme)"
   ]
  },
  {
   "cell_type": "code",
   "execution_count": 71,
   "id": "a87f1921",
   "metadata": {},
   "outputs": [],
   "source": [
    "expressions = \"\"\"\n",
    "2 + 2\n",
    "14 * 5\n",
    "(10 * 2) + 5\n",
    "\n",
    "60 * 70\n",
    "\"\"\""
   ]
  },
  {
   "cell_type": "code",
   "execution_count": 72,
   "id": "73ee2ac2",
   "metadata": {},
   "outputs": [
    {
     "name": "stdout",
     "output_type": "stream",
     "text": [
      "['\\n', '2', ' ', '+', ' ', '2', '\\n', '1', '4', ' ', '*', ' ', '5', '\\n', '(', '1', '0', ' ', '*', ' ', '2', ')', ' ', '+', ' ', '5', '\\n', '\\n', '6', '0', ' ', '*', ' ', '7', '0', '\\n']\n"
     ]
    }
   ],
   "source": [
    "chars = list(expressions)\n",
    "print(chars)"
   ]
  },
  {
   "cell_type": "code",
   "execution_count": 123,
   "id": "62be5efc",
   "metadata": {},
   "outputs": [],
   "source": [
    "class Lexer(object):\n",
    "    def __init__(self, chars):\n",
    "        self.lookahead = None\n",
    "        self.chars = chars\n",
    "\n",
    "    def match(self, token):\n",
    "        # Return true if \"token\" matches the current lookahead symbol.\n",
    "        if not self.lookahead:\n",
    "            while not self.lookahead:\n",
    "                self.lookahead = lex(self.chars)\n",
    "                print(f\"New lookahead: {self.lookahead}\")\n",
    "\n",
    "        return token == self.lookahead.type\n",
    "\n",
    "    def advance(self):\n",
    "        # Advance the lookahead to the next input symbol.\n",
    "        self.lookahead = lex(self.chars)\n",
    "        print(f\"Changed lookahead: {self.lookahead}\")"
   ]
  },
  {
   "cell_type": "code",
   "execution_count": 86,
   "id": "6aa3cc96",
   "metadata": {},
   "outputs": [
    {
     "name": "stdout",
     "output_type": "stream",
     "text": [
      "New lookahead: Lexeme(type=<Token.NUM_OR_ID: 6>, value=['2'])\n"
     ]
    },
    {
     "data": {
      "text/plain": [
       "False"
      ]
     },
     "execution_count": 86,
     "metadata": {},
     "output_type": "execute_result"
    }
   ],
   "source": [
    "lexer = Lexer(chars)\n",
    "lexer.match(Token.PLUS)\n",
    "\n",
    "lexer.match(Token.PLUS)"
   ]
  },
  {
   "cell_type": "code",
   "execution_count": 75,
   "id": "74f5e961",
   "metadata": {},
   "outputs": [
    {
     "name": "stdout",
     "output_type": "stream",
     "text": [
      "Changed lookahead: Lexeme(type=<Token.NUM_OR_ID: 6>, value=['2'])\n"
     ]
    }
   ],
   "source": [
    "lexer.advance()"
   ]
  },
  {
   "cell_type": "code",
   "execution_count": 76,
   "id": "fdb7d147",
   "metadata": {},
   "outputs": [
    {
     "name": "stdout",
     "output_type": "stream",
     "text": [
      "[' ', '+', ' ', '2', '\\n', '1', '4', ' ', '*', ' ', '5', '\\n', '(', '1', '0', ' ', '*', ' ', '2', ')', ' ', '+', ' ', '5', '\\n', '\\n', '6', '0', ' ', '*', ' ', '7', '0', '\\n']\n"
     ]
    }
   ],
   "source": [
    "print(chars)"
   ]
  },
  {
   "cell_type": "code",
   "execution_count": 129,
   "id": "514c35f3",
   "metadata": {},
   "outputs": [],
   "source": [
    "class ParserException(Exception):\n",
    "    \"\"\"Parser exception.\"\"\"\n",
    "\n",
    "class Parser(object):\n",
    "    def __init__(self, lexer):\n",
    "        self.lexer = lexer\n",
    "\n",
    "    def factor(self):\n",
    "        \"\"\"\n",
    "        factor -> NUM_OR_ID\n",
    "               |  LP expression RP\n",
    "        \"\"\"\n",
    "        print(f\"factor {self.lexer.chars}\")\n",
    "        if self.lexer.match(Token.NUM_OR_ID):\n",
    "            self.lexer.advance()\n",
    "        elif self.lexer.match(Token.LP):\n",
    "            self.lexer.advance()\n",
    "            self.expression()\n",
    "            if self.lexer.match(Token.RP):\n",
    "                self.lexer.advance()\n",
    "            else:\n",
    "                raise ParserException(\"Mismatch parenthesis LINENO (TODO)\")\n",
    "        else:\n",
    "            raise ParserException(\"Number or identifier expected LINENO (TODO)\")\n",
    "\n",
    "    def term_prime(self):\n",
    "        \"\"\"\n",
    "        term' -> TIMES factor term'\n",
    "              |  epsilon\n",
    "        \"\"\"\n",
    "        print(f\"term_prime {self.lexer.chars}\")\n",
    "        if self.lexer.match(Token.TIMES):\n",
    "            self.lexer.advance()\n",
    "            self.factor()\n",
    "            self.term_prime()\n",
    "\n",
    "    def term(self):\n",
    "        \"\"\"\n",
    "        term -> factor term'\n",
    "        \"\"\"\n",
    "        print(f\"term {self.lexer.chars}\")\n",
    "        self.factor()\n",
    "        self.term_prime()\n",
    "\n",
    "    def expr_prime(self):\n",
    "        \"\"\"\n",
    "        expression' -> PLUS term expression'\n",
    "                     | epsilon\n",
    "        \"\"\"\n",
    "        print(f\"expr_prime {self.lexer.chars}\")\n",
    "        if self.lexer.match(Token.PLUS):\n",
    "            self.lexer.advance()\n",
    "            self.term()\n",
    "            self.expr_prime()\n",
    "\n",
    "    def expression(self):\n",
    "        \"\"\"\n",
    "        expression -> term expression'\n",
    "        \"\"\"\n",
    "        print(f\"expression {self.lexer.chars}\")\n",
    "        self.term()\n",
    "        self.expr_prime()\n",
    "\n",
    "    def statements(self):\n",
    "        \"\"\"\n",
    "        statements -> expression SEMI\n",
    "                |     expression SEMI statement\n",
    "        \"\"\"\n",
    "        print(f\"statements {self.lexer.chars}\")\n",
    "        self.expression()\n",
    "\n",
    "        if self.lexer.match(Token.SEMI):\n",
    "            self.lexer.advance()\n",
    "        else:\n",
    "            print(\"Inserting missing semicolon: LINENO (TODO)\")\n",
    "\n",
    "        if (not self.lexer.match(Token.EOI)):\n",
    "            self.statements()"
   ]
  },
  {
   "cell_type": "code",
   "execution_count": 136,
   "id": "cfd7f7ac",
   "metadata": {},
   "outputs": [
    {
     "name": "stdout",
     "output_type": "stream",
     "text": [
      "['\\n', '2', ' ', '*', ' ', '1', '0', '0', ';', '\\n']\n"
     ]
    }
   ],
   "source": [
    "expressions = \"\"\"\n",
    "2 * 100;\n",
    "\"\"\"\n",
    "\n",
    "chars = list(expressions)\n",
    "print(chars)"
   ]
  },
  {
   "cell_type": "code",
   "execution_count": 137,
   "id": "829e0e71",
   "metadata": {
    "scrolled": true
   },
   "outputs": [
    {
     "name": "stdout",
     "output_type": "stream",
     "text": [
      "statements ['\\n', '2', ' ', '*', ' ', '1', '0', '0', ';', '\\n']\n",
      "expression ['\\n', '2', ' ', '*', ' ', '1', '0', '0', ';', '\\n']\n",
      "term ['\\n', '2', ' ', '*', ' ', '1', '0', '0', ';', '\\n']\n",
      "factor ['\\n', '2', ' ', '*', ' ', '1', '0', '0', ';', '\\n']\n",
      "New lookahead: None\n",
      "New lookahead: Lexeme(type=<Token.NUM_OR_ID: 6>, value=['2'])\n",
      "Changed lookahead: Lexeme(type=<Token.TIMES: 3>, value=None)\n",
      "term_prime [' ', '1', '0', '0', ';', '\\n']\n",
      "Changed lookahead: Lexeme(type=<Token.NUM_OR_ID: 6>, value=['1', '0', '0'])\n",
      "factor [';', '\\n']\n",
      "Changed lookahead: Lexeme(type=<Token.SEMI: 1>, value=None)\n",
      "term_prime ['\\n']\n",
      "expr_prime ['\\n']\n",
      "Changed lookahead: Lexeme(type=<Token.EOI: 0>, value=None)\n"
     ]
    }
   ],
   "source": [
    "lexer = Lexer(chars)\n",
    "\n",
    "parser = Parser(lexer)\n",
    "\n",
    "# TODO: parsing statements with single expression works fine\n",
    "#       but once more expressions are present it goes into\n",
    "#       infinit loop somewhere.\n",
    "parser.statements()"
   ]
  },
  {
   "cell_type": "code",
   "execution_count": null,
   "id": "7b07de0c",
   "metadata": {},
   "outputs": [],
   "source": []
  }
 ],
 "metadata": {
  "kernelspec": {
   "display_name": "Python 3 (ipykernel)",
   "language": "python",
   "name": "python3"
  },
  "language_info": {
   "codemirror_mode": {
    "name": "ipython",
    "version": 3
   },
   "file_extension": ".py",
   "mimetype": "text/x-python",
   "name": "python",
   "nbconvert_exporter": "python",
   "pygments_lexer": "ipython3",
   "version": "3.11.2"
  }
 },
 "nbformat": 4,
 "nbformat_minor": 5
}
